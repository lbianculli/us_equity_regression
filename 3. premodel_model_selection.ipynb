{
 "cells": [
  {
   "cell_type": "code",
   "execution_count": 16,
   "metadata": {},
   "outputs": [],
   "source": [
    "# Note 10Qs generally release at the end of the following month. \n",
    "# e.g. June financials will be disseminated End of July/Beg. of Aug\n",
    "import pandas as pd\n",
    "import numpy as np\n",
    "import datetime \n",
    "import os\n",
    "import matplotlib.pyplot as plt\n",
    "from joblib import dump, load\n",
    "from itertools import combinations\n",
    "from sklearn.preprocessing import StandardScaler, PolynomialFeatures\n",
    "from sklearn.model_selection import GridSearchCV, RandomizedSearchCV, cross_val_score, RepeatedKFold\n",
    "from sklearn.linear_model import Lasso, LogisticRegression\n",
    "import pickle \n",
    "from sklearn.decomposition import PCA\n",
    "from sklearn import ensemble, tree, metrics\n"
   ]
  },
  {
   "cell_type": "code",
   "execution_count": 17,
   "metadata": {},
   "outputs": [],
   "source": [
    "# load data from preprocessing step\n",
    "premodel_data = pd.read_csv(\"C:/Users/lbianculli/dev/us_equities/ML_categorization/us_data_final_reg.csv\").drop(\"Unnamed: 0\", axis=1)\n",
    "premodel_data[\"date_dt\"] = pd.to_datetime(premodel_data[\"period\"], format='%Y-%m-%d')\n",
    "premodel_data[\"ev_to_ebitda\"] = np.where(premodel_data[\"ev_to_ebitda\"] < 0, 100, premodel_data[\"ev_to_ebitda\"])  # this should be moved *\n",
    "\n",
    "# rename columns\n",
    "renamed_cols = [c.replace(\"-\", \"_\") for c in premodel_data.columns]\n",
    "premodel_data.columns = renamed_cols"
   ]
  },
  {
   "cell_type": "markdown",
   "metadata": {},
   "source": [
    "## Quality Screening\n",
    "Before we get into the premodelling: while we will base investment decisions off the predictions of our model, those predictions should not be treated as a be-all-end-all. One thing we can do to augment our predictions is to bring in an additional quality screen, which we will use to flag potential investments that are low quality, according the measures used by the MSCI Quality Index. These measures will be saved for later, as we still want to train our model including \"low quality\" data points.\n",
    "\n",
    "For more detail on this factor index: https://www.msci.com/documents/10199/4af921f5-0bbc-470b-ad69-19a177fad9cf"
   ]
  },
  {
   "cell_type": "code",
   "execution_count": 18,
   "metadata": {
    "scrolled": true
   },
   "outputs": [],
   "source": [
    "from scipy.stats import mstats\n",
    "    \n",
    "# create composite quality score based on leverage, earnings, and ROE (MSCI Quality Index)\n",
    "premodel_data[\"quality_score\"] = (-premodel_data[\"leverage\"] - premodel_data[\"earnings_std\"] + premodel_data[\"roe\"]) / 3\n",
    "quality_screen = premodel_data[\"quality_score\"].quantile(.25)\n",
    "\n",
    "# filter out the bottom quartile and bring back label\n",
    "premodel_data = premodel_data.drop([\"quality_score\", \"date_dt\", \"id\", \"1mo_fwd_log_rets\"], axis=1)\n",
    "\n",
    "# save out quantiles so we can use for final screen\n",
    "with open(\"C:/Users/lbianculli/equity_analysis/quality_screen_2021Q4.p\", \"wb\") as f:\n",
    "    pickle.dump(quality_screen, f)\n"
   ]
  },
  {
   "cell_type": "code",
   "execution_count": 19,
   "metadata": {},
   "outputs": [],
   "source": [
    "class Premodel:\n",
    "    plt.rcParams['figure.figsize'] = (8.0, 5.0)\n",
    "\n",
    "    def __init__(self, data):\n",
    "        self.data = data\n",
    "    \n",
    "    def train_test_split(self, label, train_size=.8):\n",
    "        \"\"\" \n",
    "        Split processed data into train and test sets. Extract labels. Also stores indexed labels and data in the process.\n",
    "        Data is required to have the label_col column that represents train and test labels.\n",
    "        \"\"\"\n",
    "        # Carve out holdout data\n",
    "        holdout_data = self.data.sample(frac=.2)\n",
    "        non_holdout_data = self.data.drop(holdout_data.index, axis=0)\n",
    "        holdout_labels = holdout_data.pop(label) \n",
    "\n",
    "        # split out train and test from non-holdout data\n",
    "        train_data = non_holdout_data.sample(frac=.8)\n",
    "        test_data = non_holdout_data.drop(train_data.index, axis=0)\n",
    "\n",
    "        train_labels = train_data.pop(label).reset_index(drop=True)\n",
    "        test_labels = test_data.pop(label).reset_index(drop=True)\n",
    "        \n",
    "        # turn back into dataframes\n",
    "        train_data = pd.DataFrame(data=train_data, columns=[c for c in self.data.columns if c != label]).reset_index(drop=True)\n",
    "        assert(\"label\" not in train_data.columns)\n",
    "\n",
    "        test_data = pd.DataFrame(data=test_data, columns=[c for c in self.data.columns if c != label]).reset_index(drop=True)\n",
    "        \n",
    "        holdout_data = pd.DataFrame(data=holdout_data, columns=[c for c in self.data.columns if c != label]).reset_index(drop=True)\n",
    "\n",
    "        return train_data, test_data, holdout_data, train_labels, test_labels, holdout_labels\n",
    "\n",
    "    def pca_transform(self, train_data, test_data, n_components):\n",
    "        \"\"\" take train data and apply PCA. We do this so we always train on the same records \"\"\"\n",
    "        pca = PCA(n_components)\n",
    "        pca_train_data = pca.fit_transform(train_data)\n",
    "        pca_test_data = pca.fit_transform(test_data)\n",
    "\n",
    "        return pca_train_data, pca_test_data, pca\n",
    "\n",
    "    def run_grid(self, clf, grid, train_data, test_data, train_labels, test_labels, n_jobs=-1, score=\"accuracy\"):\n",
    "        \"\"\" \n",
    "        Runs SKLearn implementation of grid search \n",
    "        clf: un-fit SKLearn classifier\n",
    "        grid: params upon which grid search will run\n",
    "        data: pandas DataFrame of model data, inclusive of label\n",
    "        label: name of column that holds classification labels\n",
    "\n",
    "        returns: Most accurate model\n",
    "        \"\"\"\n",
    "        grid_search = GridSearchCV(estimator=clf, param_grid=grid, n_jobs=n_jobs, scoring=score)\n",
    "        best_clf = grid_search.fit(train_data, train_labels).best_estimator_\n",
    "\n",
    "        # get model predictions and accuracy\n",
    "        preds = best_clf.predict(test_data)\n",
    "        acc = metrics.accuracy_score(preds, test_labels)\n",
    "\n",
    "        print(f\"Model Accuracy: {acc*100:.1f}%\")\n",
    "\n",
    "        return best_clf"
   ]
  },
  {
   "cell_type": "markdown",
   "metadata": {},
   "source": [
    "## Feature Selection\n",
    "\n",
    "Feature selection is the process of identifying and selecting a subset of input variables that have the most predictive power in forecasting the target variable. The most popular feature selection technique that can be used for regression problems is to calculate the correlation each feature has with the target and take the features with the highest values.\n",
    "\n",
    "We will follow this approach and then compare to a baseline model to determine efficacy for this dataset.\n",
    "\n",
    "For more on feature selection for regression models: https://machinelearningmastery.com/feature-selection-for-regression-data/"
   ]
  },
  {
   "cell_type": "code",
   "execution_count": 20,
   "metadata": {},
   "outputs": [],
   "source": [
    "# example of correlation feature selection for numerical data\n",
    "from sklearn.datasets import make_regression\n",
    "from sklearn.model_selection import train_test_split\n",
    "from sklearn.feature_selection import SelectKBest, f_regression, mutual_info_regression\n",
    "from sklearn.linear_model import LinearRegression\n",
    "from sklearn.metrics import mean_absolute_error\n",
    "\n",
    "# feature selection\n",
    "def select_features(X_train, y_train, X_test, fs_func=f_regression):\n",
    "    # configure to select all features\n",
    "    fs = SelectKBest(score_func=f_regression, k=25)\n",
    "    \n",
    "    # learn relationship from training data\n",
    "    fs.fit(X_train, y_train)\n",
    "    \n",
    "    # transform train input data\n",
    "    X_train_fs = fs.transform(X_train)\n",
    "    \n",
    "    # transform test input data\n",
    "    X_test_fs = fs.transform(X_test)\n",
    "    \n",
    "    return X_train_fs, X_test_fs, fs\n"
   ]
  },
  {
   "cell_type": "code",
   "execution_count": 21,
   "metadata": {
    "scrolled": true
   },
   "outputs": [
    {
     "data": {
      "image/png": "[encoded data removed]",
      "text/plain": [
       "<Figure size 576x360 with 1 Axes>"
      ]
     },
     "metadata": {
      "needs_background": "light"
     },
     "output_type": "display_data"
    },
    {
     "name": "stdout",
     "output_type": "stream",
     "text": [
      "Beginning features: 116\n",
      "Reduced features 30\n"
     ]
    }
   ],
   "source": [
    "# setup premodel class\n",
    "pm = Premodel(data=premodel_data)\n",
    "\n",
    "# split train, test, and holdout data along with sample weights\n",
    "train_data, test_data, holdout_data, train_labels, test_labels, holdout_labels = pm.train_test_split(label=\"fwd_fcf_per_share\")\n",
    "# train_sample_weights = get_sample_weights(train_labels)  # what is this for?\n",
    "\n",
    "# keep test and holdout tickers for look-forward analysis after training model\n",
    "train_data = train_data.drop([\"ticker\", \"period\"], axis=1)\n",
    "test_tickers = test_data.pop(\"ticker\")\n",
    "test_dates = test_data.pop(\"period\")\n",
    "holdout_tickers = holdout_data.pop(\"ticker\")\n",
    "holdout_tickers = holdout_data.pop(\"period\")\n",
    "\n",
    "# perform feature selection\n",
    "train_features, test_features, fs_func = select_features(train_data, train_labels, test_data)\n",
    "\n",
    "# find mean score\n",
    "scores = pd.Series(fs_func.scores_).replace(np.nan, np.median(fs_func.scores_))\n",
    "mean_score = np.mean(scores)\n",
    "\n",
    "# plot the scores\n",
    "plt.bar([i for i in range(len(scores))], scores)\n",
    "plt.hlines(y=mean_score, xmin=0, xmax=len(scores), color=\"r\")\n",
    "plt.show()\n",
    "\n",
    "# find features with importan\n",
    "feat_scores_df = pd.DataFrame(zip(train_data.columns, scores), columns=[\"feature\", \"imp\"]).set_index(\"feature\")\n",
    "features_to_keep = feat_scores_df.loc[feat_scores_df[\"imp\"] > mean_score].index\n",
    "\n",
    "print(f\"Beginning features: {train_data.shape[1]}\\nReduced features {train_data[features_to_keep].shape[1]}\")"
   ]
  },
  {
   "cell_type": "code",
   "execution_count": 22,
   "metadata": {},
   "outputs": [
    {
     "data": {
      "text/html": [
       "<div>\n",
       "<style scoped>\n",
       "    .dataframe tbody tr th:only-of-type {\n",
       "        vertical-align: middle;\n",
       "    }\n",
       "\n",
       "    .dataframe tbody tr th {\n",
       "        vertical-align: top;\n",
       "    }\n",
       "\n",
       "    .dataframe thead th {\n",
       "        text-align: right;\n",
       "    }\n",
       "</style>\n",
       "<table border=\"1\" class=\"dataframe\">\n",
       "  <thead>\n",
       "    <tr style=\"text-align: right;\">\n",
       "      <th></th>\n",
       "      <th>imp</th>\n",
       "    </tr>\n",
       "    <tr>\n",
       "      <th>feature</th>\n",
       "      <th></th>\n",
       "    </tr>\n",
       "  </thead>\n",
       "  <tbody>\n",
       "    <tr>\n",
       "      <th>volatility</th>\n",
       "      <td>536.601247</td>\n",
       "    </tr>\n",
       "    <tr>\n",
       "      <th>1mo_rets</th>\n",
       "      <td>0.715404</td>\n",
       "    </tr>\n",
       "    <tr>\n",
       "      <th>1mo_log_rets</th>\n",
       "      <td>0.006710</td>\n",
       "    </tr>\n",
       "    <tr>\n",
       "      <th>1yr_rets</th>\n",
       "      <td>26.682699</td>\n",
       "    </tr>\n",
       "    <tr>\n",
       "      <th>1yr_log_rets</th>\n",
       "      <td>69.283203</td>\n",
       "    </tr>\n",
       "  </tbody>\n",
       "</table>\n",
       "</div>"
      ],
      "text/plain": [
       "                     imp\n",
       "feature                 \n",
       "volatility    536.601247\n",
       "1mo_rets        0.715404\n",
       "1mo_log_rets    0.006710\n",
       "1yr_rets       26.682699\n",
       "1yr_log_rets   69.283203"
      ]
     },
     "execution_count": 22,
     "metadata": {},
     "output_type": "execute_result"
    }
   ],
   "source": [
    "feat_scores_df.head()"
   ]
  },
  {
   "cell_type": "markdown",
   "metadata": {},
   "source": [
    "Here we see the importance scores for each of our features. We will reduce the feature set to include only features with mean importance or higher. Then we will compare our model using the reduced feature set to a baseline model to determine if it should be used"
   ]
  },
  {
   "cell_type": "code",
   "execution_count": 23,
   "metadata": {},
   "outputs": [
    {
     "name": "stdout",
     "output_type": "stream",
     "text": [
      "MAE: 0.277\n"
     ]
    }
   ],
   "source": [
    "### Reduced Dataset\n",
    "# fit the base model\n",
    "model = LinearRegression()\n",
    "model.fit(train_data[features_to_keep], train_labels)\n",
    "\n",
    "# evaluate the model\n",
    "yhat = model.predict(test_data[features_to_keep])\n",
    "\n",
    "# evaluate predictions\n",
    "mae = mean_absolute_error(test_labels, yhat)\n",
    "print(f'MAE: {mae:.3f}')"
   ]
  },
  {
   "cell_type": "code",
   "execution_count": 24,
   "metadata": {},
   "outputs": [
    {
     "name": "stdout",
     "output_type": "stream",
     "text": [
      "MAE: 0.272\n"
     ]
    }
   ],
   "source": [
    "### Unpaired Dataset\n",
    "# fit the base model\n",
    "model = LinearRegression()\n",
    "model.fit(train_data, train_labels)\n",
    "\n",
    "# evaluate the model\n",
    "yhat = model.predict(test_data)\n",
    "\n",
    "# evaluate predictions\n",
    "mae = mean_absolute_error(test_labels, yhat)\n",
    "print(f'MAE: {mae:.3f}')"
   ]
  },
  {
   "cell_type": "markdown",
   "metadata": {},
   "source": [
    "We can see that our model did not actually improve using feature selection, so we will go forward with the original dataset"
   ]
  },
  {
   "cell_type": "code",
   "execution_count": 25,
   "metadata": {},
   "outputs": [],
   "source": [
    "with open(\"C:/Users/lbianculli/dev/us_equities/reg_train_data.p\", \"wb\") as f:\n",
    "    pickle.dump([train_data, test_data, holdout_data, train_labels, test_labels, holdout_labels], f)\n",
    "\n",
    "# write out feature set for live use \n",
    "with open(\"C:/Users/lbianculli/dev/us_equities/ML_categorization/important_features.p\", \"wb\") as f:\n",
    "     pickle.dump(train_data.columns, f)\n",
    "    "
   ]
  },
  {
   "cell_type": "markdown",
   "metadata": {},
   "source": [
    "### Building our Model\n",
    "\n",
    "We are going to used a Stacked Generalization (stacking) regressor with the help of SKLearn. A stacked generalization model utilizes a meta-learning algorithm to learn how to best combine the predictions from base machine learning algorithms.\n",
    "\n",
    "For more information on Stacking models: https://machinelearningmastery.com/stacking-ensemble-machine-learning-with-python/\n",
    "\n",
    "TODO:\n",
    "- Grid search on base models\n",
    "- explore dataset features more\n",
    "- visualizations: test_performance (boxplot, anything else?)\n",
    "- build out commentary/documentation (start with Kaggle)"
   ]
  },
  {
   "cell_type": "code",
   "execution_count": 16,
   "metadata": {},
   "outputs": [
    {
     "name": "stdout",
     "output_type": "stream",
     "text": [
      "0.24.1\n"
     ]
    }
   ],
   "source": [
    "import sklearn\n",
    "from sklearn.model_selection import cross_val_score, RepeatedStratifiedKFold, RepeatedKFold\n",
    "from sklearn.neighbors import KNeighborsRegressor\n",
    "from sklearn.linear_model import LinearRegression\n",
    "from sklearn.tree import DecisionTreeRegressor\n",
    "from sklearn.svm import SVR\n",
    "from sklearn.ensemble import StackingRegressor, RandomForestRegressor\n",
    "\n",
    "print(sklearn.__version__)"
   ]
  },
  {
   "cell_type": "code",
   "execution_count": 35,
   "metadata": {},
   "outputs": [],
   "source": [
    "# define helper functions\n",
    "def get_stacking_model(n_splits=5):\n",
    "    \"\"\" Create a stacked ensemble of our models \"\"\"\n",
    "    # define base models\n",
    "    l0 = [\n",
    "        (\"knn\", KNeighborsRegressor()), \n",
    "        (\"cart\", DecisionTreeRegressor()),\n",
    "        (\"svm\", SVR()),\n",
    "        (\"linear\", LinearRegression())]\n",
    "    \n",
    "    # define meta-learner\n",
    "    l1 = RandomForestRegressor(n_estimators=500)\n",
    "    \n",
    "    # create stacking ensemble\n",
    "    model = StackingRegressor(estimators=l0, final_estimator=l1, cv=n_splits)\n",
    "    \n",
    "    return model\n",
    "\n",
    "# start with a list of base models\n",
    "def get_models():\n",
    "    models = {\n",
    "        \"knn\": KNeighborsRegressor(), \n",
    "        \"cart\": DecisionTreeRegressor(),\n",
    "        \"svm\": SVR(),\n",
    "        \"linear\": LinearRegression(), \n",
    "        \"stacking\": get_stacking_model()}\n",
    "    \n",
    "    return models\n",
    "\n",
    "def eval_model(model, x, y, n_splits=5):\n",
    "    \"\"\" evaluate model using cross-validation \"\"\" \n",
    "    # create CV object and calculate scores\n",
    "    cv = RepeatedKFold(n_splits=n_splits, n_repeats=3, random_state=1)\n",
    "    scores = cross_val_score(model, x, y, scoring=\"neg_mean_absolute_error\", cv=cv, n_jobs=1)\n",
    "    \n",
    "    return scores"
   ]
  },
  {
   "cell_type": "markdown",
   "metadata": {},
   "source": [
    "## Model Evaluation\n",
    "\n",
    "We have now defined our base and meta (stacking) models. The next step is to evaluate the base models in isolation before running data through our stacking model. If our stacking model performs better on the train data, we will go forward with that model. Otherwise we will use whichever model performs the best"
   ]
  },
  {
   "cell_type": "code",
   "execution_count": null,
   "metadata": {},
   "outputs": [],
   "source": [
    "# get models\n",
    "models = get_models()\n",
    "\n",
    "# store models and results\n",
    "results, names = [], []\n",
    "\n",
    "# evaluate models\n",
    "best_score = np.inf\n",
    "best_model = None\n",
    "\n",
    "# iterate through model instances to find the best model\n",
    "for name, model in models.items():\n",
    "    scores = eval_model(model, train_data, train_labels)\n",
    "    results.append(scores)\n",
    "    names.append(name)\n",
    "    print(f\"{name.upper()}: {np.mean(scores):.2f} ({np.std(scores):.2f})\")\n",
    "    \n",
    "    if np.mean(scores) < best_score:\n",
    "        best_score = np.mean(scores)\n",
    "        best_model = model\n",
    "    \n",
    "# plot performance of each model\n",
    "plt.boxplot(results, labels=names, showmeans=True)\n",
    "plt.show();"
   ]
  },
  {
   "cell_type": "code",
   "execution_count": 26,
   "metadata": {},
   "outputs": [],
   "source": [
    "with open(\"C:/Users/lbianculli/dev/us_equities/stacked_regression.p\", \"rb\") as f:\n",
    "    best_model = pickle.load(f)"
   ]
  },
  {
   "cell_type": "code",
   "execution_count": 28,
   "metadata": {},
   "outputs": [
    {
     "data": {
      "text/html": [
       "<div>\n",
       "<style scoped>\n",
       "    .dataframe tbody tr th:only-of-type {\n",
       "        vertical-align: middle;\n",
       "    }\n",
       "\n",
       "    .dataframe tbody tr th {\n",
       "        vertical-align: top;\n",
       "    }\n",
       "\n",
       "    .dataframe thead th {\n",
       "        text-align: right;\n",
       "    }\n",
       "</style>\n",
       "<table border=\"1\" class=\"dataframe\">\n",
       "  <thead>\n",
       "    <tr style=\"text-align: right;\">\n",
       "      <th></th>\n",
       "      <th>ticker</th>\n",
       "      <th>date</th>\n",
       "      <th>pred</th>\n",
       "      <th>label</th>\n",
       "    </tr>\n",
       "  </thead>\n",
       "  <tbody>\n",
       "    <tr>\n",
       "      <th>6489</th>\n",
       "      <td>FLR</td>\n",
       "      <td>2013-9</td>\n",
       "      <td>0.157029</td>\n",
       "      <td>-0.241499</td>\n",
       "    </tr>\n",
       "    <tr>\n",
       "      <th>6490</th>\n",
       "      <td>FLR</td>\n",
       "      <td>2015-3</td>\n",
       "      <td>0.514248</td>\n",
       "      <td>0.335257</td>\n",
       "    </tr>\n",
       "    <tr>\n",
       "      <th>6491</th>\n",
       "      <td>FLR</td>\n",
       "      <td>2015-6</td>\n",
       "      <td>0.298602</td>\n",
       "      <td>1.320721</td>\n",
       "    </tr>\n",
       "    <tr>\n",
       "      <th>6492</th>\n",
       "      <td>FLR</td>\n",
       "      <td>2017-3</td>\n",
       "      <td>0.084368</td>\n",
       "      <td>0.195563</td>\n",
       "    </tr>\n",
       "    <tr>\n",
       "      <th>6493</th>\n",
       "      <td>FLR</td>\n",
       "      <td>2019-12</td>\n",
       "      <td>0.001037</td>\n",
       "      <td>-0.677179</td>\n",
       "    </tr>\n",
       "  </tbody>\n",
       "</table>\n",
       "</div>"
      ],
      "text/plain": [
       "     ticker     date      pred     label\n",
       "6489    FLR   2013-9  0.157029 -0.241499\n",
       "6490    FLR   2015-3  0.514248  0.335257\n",
       "6491    FLR   2015-6  0.298602  1.320721\n",
       "6492    FLR   2017-3  0.084368  0.195563\n",
       "6493    FLR  2019-12  0.001037 -0.677179"
      ]
     },
     "execution_count": 28,
     "metadata": {},
     "output_type": "execute_result"
    }
   ],
   "source": [
    "# fit the best model and evaluate test results. TODO: plot?\n",
    "best_model.fit(train_data, train_labels)\n",
    "test_preds = best_model.predict(test_data).flatten()\n",
    "test_results = pd.concat([test_tickers, test_dates, pd.Series(test_preds), pd.Series(test_labels)], axis=1)\n",
    "test_results.columns = [\"ticker\", \"date\", \"pred\", \"label\"]\n",
    "\n",
    "test_results.tail()"
   ]
  },
  {
   "cell_type": "code",
   "execution_count": 29,
   "metadata": {},
   "outputs": [],
   "source": [
    "# rewrite model now that it is trained\n",
    "with open(\"C:/Users/lbianculli/dev/us_equities/stacked_regression_trained.p\", \"wb\") as f:\n",
    "    pickle.dump(best_model, f)"
   ]
  },
  {
   "cell_type": "markdown",
   "metadata": {},
   "source": [
    "## Holdout Data\n",
    "\n",
    "The model is finalized... almost. Before we start to use the model on a go-forward basis, the first thing we need to do is test it on the holdout data. We did a lot of work premodeling and tuning our model. By holding out data and evaluating the model on that data, we can be reasonably confident that we have not overfit if the model continues to perform well"
   ]
  },
  {
   "cell_type": "code",
   "execution_count": 30,
   "metadata": {},
   "outputs": [
    {
     "name": "stdout",
     "output_type": "stream",
     "text": [
      "Holdout MAE: 0.238\n"
     ]
    }
   ],
   "source": [
    "holdout_preds = best_model.predict(holdout_data).flatten()\n",
    "holdout_mae = mean_absolute_error(holdout_labels, holdout_preds)\n",
    "\n",
    "print(f\"Holdout MAE: {holdout_mae:.3f}\")"
   ]
  },
  {
   "cell_type": "markdown",
   "metadata": {},
   "source": [
    "Looks like the holdouts MAE is actually better than our train/test metrics. A good sign!"
   ]
  },
  {
   "cell_type": "markdown",
   "metadata": {},
   "source": [
    "## Analyze Past Performance\n",
    "With our fancy new model, lets perform one last sanity check: let's see how investments would have performed were we too follow the advice of our model during the last quarter"
   ]
  },
  {
   "cell_type": "code",
   "execution_count": 31,
   "metadata": {},
   "outputs": [],
   "source": [
    "import yfinance as yf\n",
    "\n",
    "def analyze_preds(df, date=\"2021-6\", top_n=20):\n",
    "    current_data = df.loc[df[\"date\"] == date]\n",
    "    current_data = current_data.sort_values(\"pred\", ascending=False)\n",
    "\n",
    "    # get largest and smallest companies to achieve some cap exposure\n",
    "    current_tickers = list(current_data.head(top_n)[\"ticker\"])\n",
    "\n",
    "    # get returns for each ticker\n",
    "    #TODO: make date dynamic (e.g. dates)\n",
    "    rets = {}\n",
    "    for ticker in current_tickers: \n",
    "        ticker_obj = yf.Ticker(ticker)\n",
    "        \n",
    "        # we wont have data until a month later\n",
    "        ticker_data = ticker_obj.history(start='2021-07-30', end='2021-10-30')\n",
    "        ticker_data[\"rets\"] = ticker_data[\"Close\"].pct_change()\n",
    "        ticker_data = ticker_data.dropna()\n",
    "        cum_rets = (ticker_data[\"rets\"] + 1).cumprod() - 1\n",
    "\n",
    "        # store ticker's cumulative returns\n",
    "        rets[ticker] = cum_rets[-1]\n",
    "\n",
    "    # get final return values\n",
    "    all_rets = np.array(list(rets.values()))\n",
    "\n",
    "    # get cumulative return of SPY for comparison\n",
    "    ticker_obj = yf.Ticker(\"SPY\")\n",
    "    \n",
    "    # we wont have data until a month later\n",
    "    spy_data = ticker_obj.history(start='2021-07-30', end='2021-10-30')\n",
    "    spy_data[\"rets\"] = spy_data[\"Close\"].pct_change()\n",
    "    spy_data = spy_data.dropna()\n",
    "\n",
    "    spy_mean_ret = spy_data[\"rets\"].mean()\n",
    "\n",
    "    # get SPY cumulative returns\n",
    "    spy_cum_rets = (spy_data[\"rets\"] + 1).cumprod() - 1\n",
    "    spy_cum_rets[-1]\n",
    "\n",
    "    print(f\"SPY returned {spy_cum_rets[-1]*100:.2f}%\")\n",
    "    print(f\"Theoretical Portfolio returned {np.mean(all_rets)*100:.2f}%\")\n",
    "    \n",
    "    return all_rets"
   ]
  },
  {
   "cell_type": "code",
   "execution_count": 32,
   "metadata": {},
   "outputs": [
    {
     "name": "stdout",
     "output_type": "stream",
     "text": [
      "SPY returned 5.07%\n",
      "Theoretical Portfolio returned -0.42%\n"
     ]
    },
    {
     "data": {
      "text/plain": [
       "array([ 0.30108942, -0.02508576, -0.07989515, -0.07821697, -0.15162748,\n",
       "        0.01603328, -0.34704182,  0.17188976,  0.00879845,  0.14217238])"
      ]
     },
     "execution_count": 32,
     "metadata": {},
     "output_type": "execute_result"
    }
   ],
   "source": [
    "analyze_preds(test_results, top_n=10)"
   ]
  },
  {
   "cell_type": "markdown",
   "metadata": {},
   "source": [
    "We can see that our portfolio would have decent last quarter. It is important to note that this does not guarentee future performance. It is clear that the model/hypotehsis is far from infallible, as there is a security we would have invested in that returned -10% last quarter."
   ]
  }
 ],
 "metadata": {
  "kernelspec": {
   "display_name": "Python 3",
   "language": "python",
   "name": "python3"
  },
  "language_info": {
   "codemirror_mode": {
    "name": "ipython",
    "version": 3
   },
   "file_extension": ".py",
   "mimetype": "text/x-python",
   "name": "python",
   "nbconvert_exporter": "python",
   "pygments_lexer": "ipython3",
   "version": "3.7.9"
  }
 },
 "nbformat": 4,
 "nbformat_minor": 4
}
